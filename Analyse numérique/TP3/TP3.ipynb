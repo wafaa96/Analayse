{
 "cells": [
  {
   "attachments": {},
   "cell_type": "markdown",
   "metadata": {},
   "source": []
  },
  {
   "attachments": {},
   "cell_type": "markdown",
   "metadata": {},
   "source": [
    "TP3:Integration numérique\n",
    "\n",
    "Ghraieb wafa 2DN1"
   ]
  },
  {
   "cell_type": "markdown",
   "metadata": {},
   "source": [
    "<html>\n",
    "    <body>\n",
    "        <h1 style=\"color:blue;\"><center>Intégration Numérique</h1>\n",
    "    </body>\n",
    "</html>"
   ]
  },
  {
   "cell_type": "markdown",
   "metadata": {},
   "source": [
    "### Introduction:"
   ]
  },
  {
   "cell_type": "markdown",
   "metadata": {},
   "source": [
    "<html>\n",
    "    <body>\n",
    "        <p style=\"color:darkblue;\">En analyse numérique, il existe une vaste famille d’algorithmes dont le but principal est d’estimer la valeur numérique de l’intégrale définie sur un domaine particulier pour une fonction donnée (par exemple l’intégrale d’une fonction d’une variable sur un intervalle).</p>\n",
    "        <p style=\"color:darkblue;\">Ces techniques procèdent en trois phases distinctes :</p>\n",
    "        <p style=\"color:darkblue;\">Décomposition du domaine en morceaux (un intervalle en sous-intervalles contigus) ;</p>\n",
    "        <p style=\"color:darkblue;\">Intégration approchée de la fonction sur chaque morceau ;</p>\n",
    "        <p style=\"color:darkblue;\">Sommation des résultats numériques ainsi obtenus.</p>\n",
    "    </body>\n",
    "</html>"
   ]
  },
  {
   "cell_type": "markdown",
   "metadata": {},
   "source": [
    "### Méthode des rectangles:"
   ]
  },
  {
   "cell_type": "markdown",
   "metadata": {},
   "source": [
    "<html>\n",
    "    <body>\n",
    "        <ul>\n",
    "            <li style=\"color:darkblue;\">C’est la méthode la plus simple qui consiste \n",
    "            à interpoler la fonction f à intégrer par une fonction \n",
    "            constante (polynôme de degré 0).</li>\n",
    "            <li style=\"color:darkblue;\">C’est la méthode d’ordre 0.</li>\n",
    "            <li style=\"color:darkblue;\">La convergence semble lente.</li>\n",
    "            <li style=\"color:darkblue;\"> L’erreur commise est négative dans\n",
    "les intervalles où f est croissante et elle est positive quand f est décroissante.\n",
    "En particulier, si la fonction f est croissante sur [a, b] ou bien décroissante sur [a, b] il n’y a pas de compensations d’erreurs entre les intervalles.</li>   \n",
    "        </ul>\n",
    "    </body>\n",
    "</html>\n",
    "             \n"
   ]
  },
  {
   "cell_type": "markdown",
   "metadata": {},
   "source": [
    "### Méthode du point milieu:\n"
   ]
  },
  {
   "cell_type": "markdown",
   "metadata": {},
   "source": [
    "<html>\n",
    "    <body>\n",
    "        <ul>\n",
    "            <li style=\"color:darkblue;\"> Le choix du point milieu améliore l’ordre de la méthode : \n",
    "        celle du rectangle est exacte (c’est-à-dire E(f) = 0) pour les fonctions constantes alors que celle du point milieu est exacte pour les polynômes de degré 1.</li>\n",
    "            <li style=\"color:darkblue;\">C’est la méthode d’ordre 1.</li>\n",
    "            <li style=\"color:darkblue;\">\n",
    "La méthode du point milieu permet d’améliorer sensiblement la vitesse de convergence par rapport\n",
    "aux rectangles. </li>\n",
    "        </ul>\n",
    "    </body>\n",
    "</html>"
   ]
  },
  {
   "cell_type": "markdown",
   "metadata": {},
   "source": [
    "### Méthode des trapèzes:"
   ]
  },
  {
   "cell_type": "markdown",
   "metadata": {},
   "source": [
    "<html>\n",
    "    <body>\n",
    "        <ul>\n",
    "            <li style=\"color:darkblue;\"> En interpolant f par un polynôme de degré 1, les deux points d'interpolation (a, f (a)) et (b, f (b)) suffisent à tracer un segment dont l’intégrale correspond à l’aire d’un trapèze.</li>\n",
    "            <li style=\"color:darkblue;\">C’est la méthode d’ordre 1.</li>\n",
    "            <li style=\"color:darkblue;\">\n",
    "Conformément aux expressions de l’erreur, la méthode des trapèzes est souvent moins performante que celle du point milieu. </li>\n",
    "        </ul>\n",
    "    </body>\n",
    "</html>"
   ]
  },
  {
   "cell_type": "markdown",
   "metadata": {},
   "source": [
    "### Méthode de Simpson:"
   ]
  },
  {
   "cell_type": "markdown",
   "metadata": {},
   "source": [
    "<html>\n",
    "    <body>\n",
    "        <ul>\n",
    "            <li style=\"color:darkblue;\"> En interpolant f par un polynôme de degré 2 (3 degrés de liberté), 3 points (ou conditions) sont nécessaires pour le caractériser : les valeurs aux extrémités a, b, et celle choisie en leur milieu m = (a + b) / 2. La méthode de Simpson est basée sur un polynôme de degré 2 (intégrale d’une parabole), tout en restant exacte pour des polynômes de degré 3.</li>\n",
    "            <li style=\"color:darkblue;\">C’est la méthode d’ordre 3.</li>\n",
    "            <li style=\"color:darkblue;\">Comme la méthode du point milieu qui caractérise un polynôme de degré 0 et qui reste exacte pour tout polynôme de degré 1, la méthode de Simpson caractérise un polynôme de degré 2 et reste exacte pour tout polynôme de degré 3. Il s’agit d’une sorte d’anomalie où se produisent des compensations bénéfiques à l’ordre de la méthode.</li>\n",
    "        </ul>\n",
    "    </body>\n",
    "</html>"
   ]
  },
  {
   "cell_type": "markdown",
   "metadata": {},
   "source": [
    "Dans ce TP, on va créer quatre classes. Pour chaque classe on va préciser les bornes de l'intervalle \n",
    "a et b, le nombre de points, la fonction f et on va créer les fonctions suivantes: integrate: Pour \n",
    "calculer l'intégrale avec la méthode précisé et plot pour afficher la fonction, la valeur approché de \n",
    "l'intégralle."
   ]
  },
  {
   "cell_type": "code",
   "execution_count": 1,
   "metadata": {},
   "outputs": [],
   "source": [
    "import numpy as np\n",
    "from numpy import *\n",
    "import matplotlib.pyplot as plt\n",
    "from ipywidgets import interact, interactive, fixed, interact_manual, widgets"
   ]
  },
  {
   "cell_type": "code",
   "execution_count": 2,
   "metadata": {},
   "outputs": [],
   "source": [
    "class RectangleG ( object ) :\n",
    "# Innitialisation de la classe (méthode de rectangles) en donnant comme paramètres la fonction f, les bornes del'intervalle a et b ainsi que le nombre de points\n",
    "    def __init__ (self , a , b , n , f ) :    \n",
    "        self.a = a\n",
    "        self.b = b\n",
    "        self.x = np.linspace( a , b , n+1 )   # Pour avoir n subdivisions, il faut n+1 points.\n",
    "        self.f = f\n",
    "        self.n = n\n",
    "# La fonction integrate est utilisé pour calculer l'intégrale.\n",
    "    def integrate ( self , f ) :\n",
    "        x= self.x\n",
    "        y= f( x )\n",
    "        h = float( x[1] - x[0] )\n",
    "        s = sum( y[ 0 : -1 ] )\n",
    "        return h * s\n",
    "    def Graph ( self , f , resolution =1001 ) :\n",
    "        xl = self.x\n",
    "        yl = f(xl)\n",
    "        xlist_fine =np.linspace( self.a , self.b , resolution )\n",
    "        for i in range ( self.n ) :\n",
    "            x_rect = [xl[ i ] , xl[ i ] , xl[ i + 1 ] , xl[i+1] , xl[ i ] ] # abscisses des sommets\n",
    "            y_rect = [0 , yl[ i ] , yl[ i ] , 0 , 0 ] # ordonnees des sommets\n",
    "            plt.plot ( x_rect , y_rect , 'r' )\n",
    "        yflist_fine = f ( xlist_fine )\n",
    "        plt.plot ( xlist_fine , yflist_fine )\n",
    "        plt.plot(xl, yl,\"bo\")\n",
    "        plt.xlabel ( 'x' )\n",
    "        plt.ylabel ( ' f ( x ) ' )\n",
    "        plt.title ( ' Methode des rectangles gauches' )\n",
    "        plt.text( 0.5*( self.a+ self.b ) , f(self.b ) , 'I_{} ={:0.8f}'.format(self.n,self.integrate( f ) ) , fontsize =15 )\n",
    "\n",
    "    "
   ]
  },
  {
   "cell_type": "code",
   "execution_count": 3,
   "metadata": {},
   "outputs": [],
   "source": [
    "class RectangleM(object):\n",
    "    def __init__ (self , a , b , n , f ) :\n",
    "        self.a = a\n",
    "        self.b = b\n",
    "        self.x = np.linspace( a , b , n+1 )\n",
    "        self.f = f\n",
    "        self.n = n\n",
    "    def integrate(self,f):\n",
    "        x= self.x\n",
    "        h = float(x[1] - x[0] )\n",
    "        s = 0\n",
    "        for i in range(self.n):\n",
    "            s=s+f((x[i]+x[i+1])*0.5)\n",
    "        return h*s \n",
    "    def Graph (self,f,resolution =1001):\n",
    "        xl = self.x\n",
    "        yl = f(xl);\n",
    "        xlist_fine =np.linspace( self.a, self.b, resolution)\n",
    "        for i in range(self.n):\n",
    "            m=(xl[i]+xl[i+1])/2\n",
    "            x_rect = [xl[i] , xl[i] , xl[i+1] , xl[i+1] , xl[i]] # abscisses des sommets\n",
    "            y_rect = [0 , f(m) , f(m) , 0 , 0 ] # ordonnees des sommets\n",
    "            plt.plot ( x_rect , y_rect , \"r\" )\n",
    "            plt.plot(m,f(m),\"g*\")\n",
    "        yflist_fine = f(xlist_fine)\n",
    "        plt.plot (xlist_fine , yflist_fine ,'b')\n",
    "        plt.plot(xl, yl,\"bo\")\n",
    "        plt.xlabel ('x')\n",
    "        plt.ylabel ('f(x)')\n",
    "        plt.title ( 'Methode de point Milieu' )\n",
    "        plt.text( 0.5*( self.a+ self.b ) , f(self.b ) , 'I_{} ={:0.8f}'.format(self.n,self.integrate( f ) ) , fontsize =15 )\n"
   ]
  },
  {
   "cell_type": "code",
   "execution_count": 4,
   "metadata": {},
   "outputs": [],
   "source": [
    "class Trapezoidal(object):\n",
    "    def __init__(self, a, b, n, f):\n",
    "        self.a = a\n",
    "        self.b = b\n",
    "        self.x = np.linspace(a, b, n+1)\n",
    "        self.f = f\n",
    "        self.n = n\n",
    "    def integrate(self,f):\n",
    "        x=self.x\n",
    "        y=f(x)\n",
    "        h = float(x[1] - x[0])\n",
    "        s = y[0] + y[-1] + 2.0*sum(y[1:-1])\n",
    "        return h * s / 2.0\n",
    "    def Graph(self,f,resolution=1001):\n",
    "        xl = self.x\n",
    "        yl = f(xl)\n",
    "        xlist_fine=np.linspace(self.a, self.b, resolution)\n",
    "        for i in range(self.n):\n",
    "            x_rect = [xl[i], xl[i], xl[i+1], xl[i+1], xl[i]] # abscisses des sommets\n",
    "            y_rect = [0   , yl[i], yl[i+1]  , 0     , 0   ] # ordonnees des sommets\n",
    "            plt.plot(x_rect, y_rect,'r')\n",
    "        yflist_fine = f(xlist_fine)\n",
    "        plt.plot(xlist_fine, yflist_fine)#plot de f(x)\n",
    "        plt.plot(xl, yl,\"bo\")#point support\n",
    "        plt.ylabel ( ' f ( x ) ' )\n",
    "        plt.title ( ' Methode des Trapèzes' )\n",
    "        plt.text( 0.5*( self.a+ self.b ) , f(self.b ) , 'I_{} ={:0.8f}'.format(self.n,self.integrate( f ) ) , fontsize =15 )"
   ]
  },
  {
   "cell_type": "code",
   "execution_count": 5,
   "metadata": {},
   "outputs": [],
   "source": [
    "class Simpson (object):\n",
    "    def __init__ (self , a , b , n , f ) :\n",
    "        self.a = a\n",
    "        self.b = b\n",
    "        self.x = np.linspace( a, b, n+1)\n",
    "        self.f = f\n",
    "        self.n = n\n",
    "    def integrate(self,f):\n",
    "        x=self.x\n",
    "        y=f(x)\n",
    "        h = float(x[1] - x[0])\n",
    "        n=len(x)-1\n",
    "        if n % 2 == 1:\n",
    "            n -= 1\n",
    "        s = y[0] + y[n] + 4.0* sum(y[1:-1:2]) + 2.0 * sum(y[2:-2:2])\n",
    "        return h * s / 3.0\n",
    "    def Graph(self,f,resolution =1001):\n",
    "        xl = self.x\n",
    "        yl = f(xl)\n",
    "        xlist_fine =np.linspace(self.a , self.b , resolution)\n",
    "        for i in range (self.n):\n",
    "            xx=np.linspace(xl[i], xl[i+1], resolution)\n",
    "            m=(xl[i]+xl[i+1])/2\n",
    "            aa=xl[i]\n",
    "            bb=xl[i+1]\n",
    "            l0=(xx-m)/(aa-m)*(xx-bb)/(aa-bb)\n",
    "            l1=(xx-aa)/(m-aa)*(xx-bb)/(m-bb)\n",
    "            l2=(xx-aa)/(bb-aa)*(xx-m)/(bb-m)\n",
    "            p=f(aa)*l0 + f(m)*l1 + f(bb)*l2\n",
    "            plt.plot(xx,p,'b')\n",
    "            plt.plot(m,f(m),'b')\n",
    "        yflist_fine = f( xlist_fine )\n",
    "        plt.plot (xlist_fine , yflist_fine ,'r')\n",
    "        plt.plot(xl, yl,\"bo\")\n",
    "        plt.ylabel ('f(x)')\n",
    "        plt.title ( 'Methode de Simpson' )\n",
    "        plt.text( 0.5*( self.a+ self.b ) , f(self.b ) , 'I_{} ={:0.8f}'.format(self.n,self.integrate( f ) ) , fontsize =15 )\n",
    "\n",
    "                             "
   ]
  },
  {
   "cell_type": "code",
   "execution_count": 6,
   "metadata": {},
   "outputs": [],
   "source": [
    "def sim(n,f):\n",
    "    RG=RectangleG(-1,1,n,f)\n",
    "    RM=RectangleM(-1,1,n,f)\n",
    "    T=Trapezoidal(-1,1,n,f)\n",
    "    S=Simpson(-1,1,n,f)\n",
    "    fig= plt.figure(figsize=(24,8))\n",
    "    plt.subplot(221)\n",
    "    RG.Graph(f)\n",
    "    plt.subplot(222)    \n",
    "    RM.Graph(f)\n",
    "    plt.subplot(223)    \n",
    "    T.Graph(f)\n",
    "    plt.subplot(224)    \n",
    "    S.Graph(f)\n",
    "    plt.show()"
   ]
  },
  {
   "cell_type": "code",
   "execution_count": 7,
   "metadata": {},
   "outputs": [
    {
     "data": {
      "application/vnd.jupyter.widget-view+json": {
       "model_id": "adef865ae556484bb7dd077649cac490",
       "version_major": 2,
       "version_minor": 0
      },
      "text/plain": [
       "interactive(children=(IntSlider(value=10, description='n', max=50, min=1, step=3), Dropdown(description='f', o…"
      ]
     },
     "metadata": {},
     "output_type": "display_data"
    }
   ],
   "source": [
    "interact(sim,n=widgets.IntSlider(min=1, max=50, step=3, value=10),f={'1/(1+x**2)':lambda x:1/(1+x**2),'sin(x)':lambda x: sin(x),'cos(x)':lambda x:cos(x),'x**2-x+5':lambda x:x**2-x+5});"
   ]
  },
  {
   "cell_type": "code",
   "execution_count": 8,
   "metadata": {},
   "outputs": [
    {
     "data": {
      "application/vnd.jupyter.widget-view+json": {
       "model_id": "3a426c93bb96470b8ef4230e5acfd169",
       "version_major": 2,
       "version_minor": 0
      },
      "text/plain": [
       "HBox(children=(VBox(children=(Dropdown(description='Méthode:', options=(('Méthode des rectangles gauches', 1),…"
      ]
     },
     "metadata": {},
     "output_type": "display_data"
    }
   ],
   "source": [
    "Method=widgets.Dropdown(\n",
    "    options=[('Méthode des rectangles gauches',1), ('Méthode du point milieu',2), ('Méthode des trapèzes',3), ('Méthode de Simpson',4)],\n",
    "    description='Méthode:',\n",
    "    \n",
    ")\n",
    "text_func=widgets.Text(value='', description='Fonction', continuous_update=False)\n",
    "text_a=widgets.Text(value='', description='a', continuous_update=False)\n",
    "text_b=widgets.Text(value='', description='b', continuous_update=False)\n",
    "n=widgets.IntSlider(min=1, max=100, step=3, value=10)\n",
    "button=widgets.Button(description=\"Calculer\")\n",
    "def sim(b):\n",
    "    dic={1:RectangleG,2:RectangleM,3:Trapezoidal,4:Simpson}\n",
    "    s=Method.value\n",
    "    plt.cla()\n",
    "    func=lambda x:eval(text_func.value)\n",
    "    R=dic[s](float(text_a.value), float(text_b.value),n.value,func)\n",
    "    R.Graph(func)\n",
    "def update_a(change):\n",
    "    change.new \n",
    "def update_b(change):\n",
    "    change.new \n",
    "def update_f(change):\n",
    "    change.new \n",
    "button.on_click(sim)\n",
    "text_func.observe(update_f,'value')\n",
    "text_a.observe(update_a,'value')\n",
    "text_b.observe(update_b,'value')\n",
    "output= widgets.Output()\n",
    "def make_boxes():\n",
    "    vbox1 = widgets.VBox([Method, text_func,text_a,text_b,n,button])\n",
    "    vbox2 = widgets.VBox([ output])\n",
    "    return vbox1, vbox2\n",
    "box_layout = widgets.Layout(\n",
    "        border='solid 2px gray' ,\n",
    "        margin='0px 10px 10px 0px',\n",
    "        padding='5px 5px 5px 5px')\n",
    "vbox1, vbox2 = make_boxes()\n",
    "vbox1.Layout = box_layout\n",
    "vbox2.Layout = box_layout\n",
    "widgets.HBox([vbox1, vbox2])\n",
    "\n",
    "    \n"
   ]
  },
  {
   "attachments": {
    "tab.GIF": {
     "image/gif": "[encoded data removed]"
    }
   },
   "cell_type": "markdown",
   "metadata": {},
   "source": [
    "![tab.GIF](attachment:tab.GIF)"
   ]
  },
  {
   "cell_type": "code",
   "execution_count": null,
   "metadata": {},
   "outputs": [],
   "source": []
  }
 ],
 "metadata": {
  "kernelspec": {
   "display_name": "Python 3",
   "language": "python",
   "name": "python3"
  },
  "language_info": {
   "codemirror_mode": {
    "name": "ipython",
    "version": 3
   },
   "file_extension": ".py",
   "mimetype": "text/x-python",
   "name": "python",
   "nbconvert_exporter": "python",
   "pygments_lexer": "ipython3",
   "version": "3.8.3"
  }
 },
 "nbformat": 4,
 "nbformat_minor": 4
}
