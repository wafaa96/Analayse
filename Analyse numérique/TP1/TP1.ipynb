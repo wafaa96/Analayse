{
 "cells": [
  {
   "cell_type": "markdown",
   "metadata": {},
   "source": [
    "# Compte rendu: TP1\n",
    "\n",
    "Ghraieb Wafa 2DN1\n",
    "\n",
    "\n",
    "\n",
    "\n",
    "\n"
   ]
  },
  {
   "cell_type": "markdown",
   "metadata": {},
   "source": [
    "# Objectif:\n",
    "\n",
    "-Calcule d'erreur.\n",
    "\n",
    "-Résolution des équations de type f(x)=0.\n",
    "\n",
    "-Comparison des trois méthodes suivantes: méthode de la Dichotomie(Bissection), méthode de point fixe et méthode de Newton.\n",
    "Quelle est la meilheur méthode?\n"
   ]
  },
  {
   "cell_type": "markdown",
   "metadata": {},
   "source": [
    "## Exercice 1: Calcul d'erreur\n",
    "    \n",
    ">On considère le polynôme $p(x) = (x - 1)^6$. \n",
    ">\n",
    ">En développant on\n",
    ">peut écrire ce même polynôme sous la forme\n",
    ">$f(x) = x^6 - 6x^5 + 15x^4 - 20x^3 + 15x^2 - 6x + 1.$\n",
    ">\n",
    ">1) Avec Matlab évaluer $p(x)$ et $f(x)$ pour $x$ allant de $.998$ à\n",
    ">$1.002$ en choisissant des pas de $.0001$.\n",
    ">\n",
    ">2) Faire un graphique de $f(x)$ et $p(x)$. Commenter."
   ]
  },
  {
   "cell_type": "markdown",
   "metadata": {},
   "source": [
    "### But:\n",
    "Mettre en évidence les erreurs de calcule dans l'ordinateur"
   ]
  },
  {
   "cell_type": "markdown",
   "metadata": {},
   "source": [
    "### Question:\n",
    "Est-ce que l'ordinateur, calcule correctement ou elle fait des erreurs de calcul?"
   ]
  },
  {
   "cell_type": "code",
   "execution_count": null,
   "metadata": {},
   "outputs": [],
   "source": []
  },
  {
   "cell_type": "code",
   "execution_count": 2,
   "metadata": {},
   "outputs": [],
   "source": [
    "def p1(x):\n",
    "    ''' p(x)=(x-1)⁶'''\n",
    "    return (x-1)**6 # ** puissance \n",
    "def p2(x):\n",
    "    '''version développer de p(x)'''\n",
    "    return x**6 - 6*x**5 + 15*x**4 - 20*x**3 + 15*x**2 - 6*x + 1"
   ]
  },
  {
   "cell_type": "code",
   "execution_count": null,
   "metadata": {},
   "outputs": [],
   "source": [
    "p1"
   ]
  },
  {
   "cell_type": "code",
   "execution_count": 4,
   "metadata": {},
   "outputs": [
    {
     "name": "stdout",
     "output_type": "stream",
     "text": [
      "p1(0.998)=6.400000000000034e-17 \n",
      "p2(0.998)=1.7763568394002505e-15 \n"
     ]
    }
   ],
   "source": [
    "# le calcul de p1(0.998)\n",
    "print('p1({})={} '.format(0.998,p1(0.998)))\n",
    "# le calcul de p2(0.998)\n",
    "print('p2({})={} '.format(0.998,p2(0.998)))"
   ]
  },
  {
   "cell_type": "markdown",
   "metadata": {},
   "source": [
    "#### Calculer avec p, nous donne une valeur plus précise que calculer avec f sachant que p=f.\n"
   ]
  },
  {
   "cell_type": "markdown",
   "metadata": {},
   "source": [
    "#### Pourquoi deux fonctions égales appliquées à la même valeur ne donnent pas le même résultat."
   ]
  },
  {
   "cell_type": "markdown",
   "metadata": {},
   "source": [
    "#### Pour f(x), on a 26 opérations de calcule, c'est à dire 26 erreurs de codage et 26 erreurs d'arrondi sont possibles.\n",
    "#### Pour p(x), on a 111 opérations de calcule, c'est à dire 11 erreurs de codage et 11 erreurs d'arrondi sont possibles.\n",
    "#### =>Le nombre d'erreur avec un petit algorithme est inférieur à cel obtenu avec un grand algorithme (qui dépend plusieurs opérations)\n",
    "\n",
    "\n"
   ]
  },
  {
   "cell_type": "markdown",
   "metadata": {},
   "source": [
    "#### A quoi sert donc l'analyse numérique?"
   ]
  },
  {
   "cell_type": "code",
   "execution_count": null,
   "metadata": {},
   "outputs": [],
   "source": [
    "#### But: Minimiser les erreurs effectuées par l'ordinateur le maximum possibles"
   ]
  },
  {
   "cell_type": "code",
   "execution_count": 5,
   "metadata": {},
   "outputs": [
    {
     "data": {
      "text/plain": [
       "64"
      ]
     },
     "execution_count": 5,
     "metadata": {},
     "output_type": "execute_result"
    }
   ],
   "source": [
    "p2(3)"
   ]
  },
  {
   "cell_type": "code",
   "execution_count": null,
   "metadata": {},
   "outputs": [],
   "source": [
    "### Code Python de la fonction horner\n",
    "def horner(P,x)\n",
    "  n=len(P)\n",
    "  valeur=P[n-1]\n",
    "  for i in range(n-2, -1,-1)\n",
    "    valeur=valeur*x+P[i]\n",
    "  return valeur\n",
    "\n",
    "\n",
    "### Solution de l'exercice 1 avec MATLAB/OCTAVE"
   ]
  },
  {
   "cell_type": "code",
   "execution_count": null,
   "metadata": {},
   "outputs": [],
   "source": [
    "def horner(P,x)\n",
    "  n=len(P)\n",
    "  valeur=P[n-1]\n",
    "  for i in range(n-2, -1,-1)\n",
    "    valeur=valeur*x+P[i]\n",
    "  return valeur\n"
   ]
  },
  {
   "cell_type": "code",
   "execution_count": 9,
   "metadata": {},
   "outputs": [],
   "source": [
    "p=lambda x: (x-1)**6\n",
    "f=lambda x: x**6 - 6*x**5 + 15*x**4 - 20*x**3 + 15*x**2 - 6*x + 1"
   ]
  },
  {
   "cell_type": "code",
   "execution_count": 6,
   "metadata": {},
   "outputs": [
    {
     "data": {
      "image/png": "[encoded data removed]",
      "text/plain": [
       "<Figure size 432x288 with 1 Axes>"
      ]
     },
     "metadata": {
      "needs_background": "light"
     },
     "output_type": "display_data"
    }
   ],
   "source": [
    "import matplotlib.pyplot as plt\n",
    "import numpy as np\n",
    "\n",
    "x = np.arange(0.998, 1.002, 0.0001)\n",
    "p = lambda x:(x-1)**6 \n",
    "plt.plot(x,p(x))\n",
    "f = lambda x: x**6 - 6*x**5 + 15*x**4 - 20*x**3 + 15*x**2 - 6*x + 1\n",
    "plt.plot(x,f(x))\n",
    "plt.xlabel('x')\n",
    "plt.ylabel('f(x)')\n",
    "plt.title('fonction dans l intervalle [0.998:0.0001:1.002] ')\n",
    "plt.grid(True)   \n",
    "plt.show()"
   ]
  },
  {
   "cell_type": "markdown",
   "metadata": {},
   "source": [
    "###### 2) Faire un graphique de  𝑓(𝑥)  et  𝑝(𝑥) "
   ]
  },
  {
   "cell_type": "markdown",
   "metadata": {},
   "source": [
    "# EXERCICE 2: Méthode de la dichotomie\n",
    "\n",
    "On considère l'équation :\n",
    "𝑓(𝑥)=𝑥3+𝑥2−3𝑥−3=0\n",
    " \n",
    "1) Dessiner la courbe de  𝑓  dans l'intervalle  [−2;2] , puis trouver des intervalles convenables pour appliquer la méthode de >bisection.\n",
    "\n",
    "2) Trouver les solutions de l'équation  𝑓(𝑥)=0  avec  𝑒𝑝𝑠=0.001 avec Python .\n",
    "\n",
    "3) Donner le nombre d'itération nécessaire pour avoir la solution à  𝑒𝑝𝑠  près.\n",
    "    "
   ]
  },
  {
   "cell_type": "markdown",
   "metadata": {},
   "source": [
    "###### Avec Python"
   ]
  },
  {
   "cell_type": "markdown",
   "metadata": {},
   "source": [
    "1) Dessiner la courbe de 𝑓 dans l'intervalle [−2;2]"
   ]
  },
  {
   "cell_type": "code",
   "execution_count": 44,
   "metadata": {},
   "outputs": [
    {
     "data": {
      "text/plain": [
       "[<matplotlib.lines.Line2D at 0xded6f6370>]"
      ]
     },
     "execution_count": 44,
     "metadata": {},
     "output_type": "execute_result"
    },
    {
     "data": {
      "image/png": "[encoded data removed]",
      "text/plain": [
       "<Figure size 432x288 with 1 Axes>"
      ]
     },
     "metadata": {
      "needs_background": "light"
     },
     "output_type": "display_data"
    }
   ],
   "source": [
    "import matplotlib.pyplot as plt\n",
    "from numpy import linspace\n",
    "f=lambda x: x**3+x**2-3*x-3\n",
    "T=linspace(-2,2,41)\n",
    "plt.title(\"solution dans [-2:2] \");\n",
    "plt.xlabel(\"x\")\n",
    "plt.ylabel (\"f(x)\")\n",
    "plt.grid(True)\n",
    "plt.plot(T,f(T))\n"
   ]
  },
  {
   "cell_type": "markdown",
   "metadata": {},
   "source": [
    "Daprés le graph de  𝑓  il existe 3 solutions :\n",
    "\n",
    "𝛼1∈]−2;−1.5[\n",
    "\n",
    "𝛼2∈]−1.5;−0.5[\n",
    "\n",
    "𝛼3∈]1.5;2["
   ]
  },
  {
   "cell_type": "markdown",
   "metadata": {},
   "source": [
    "###### 2)voiçi une implementation Python de la fonction dicho"
   ]
  },
  {
   "cell_type": "code",
   "execution_count": 53,
   "metadata": {},
   "outputs": [
    {
     "name": "stdout",
     "output_type": "stream",
     "text": [
      "-1.732025146484375\n"
     ]
    }
   ],
   "source": [
    "\n",
    "def dicho(a,b,f,n):\n",
    " m=(a+b)/2\n",
    "    #calcul de la longueur de [a,b]\n",
    " ecart = abs(b-a)\n",
    " while ecart>n:\n",
    "        if f(a)*f(m)<0:\n",
    "             b=m\n",
    "        else:\n",
    "            a=m\n",
    "        m=(a+b)/2\n",
    "        ecart = b-a\n",
    " return m\n",
    "f=lambda x: x**3+x**2-3*x-3\n",
    "print(dicho(-2,-1.5,f,0.0001))\n"
   ]
  },
  {
   "cell_type": "markdown",
   "metadata": {},
   "source": [
    "###### 𝛼1∈]−2;−1.5["
   ]
  },
  {
   "cell_type": "code",
   "execution_count": 55,
   "metadata": {},
   "outputs": [
    {
     "data": {
      "text/plain": [
       "-1.73193359375"
      ]
     },
     "execution_count": 55,
     "metadata": {},
     "output_type": "execute_result"
    }
   ],
   "source": [
    "dicho(-2,-1.5,f,0.001)"
   ]
  },
  {
   "cell_type": "markdown",
   "metadata": {},
   "source": [
    "###### 𝛼2∈]−1.5;−0.5["
   ]
  },
  {
   "cell_type": "code",
   "execution_count": 56,
   "metadata": {},
   "outputs": [
    {
     "data": {
      "text/plain": [
       "-0.50048828125"
      ]
     },
     "execution_count": 56,
     "metadata": {},
     "output_type": "execute_result"
    }
   ],
   "source": [
    "\n",
    "dicho(-1.5,-0.5,f,0.001)"
   ]
  },
  {
   "cell_type": "markdown",
   "metadata": {},
   "source": [
    "###### 𝛼3∈]1.5;2["
   ]
  },
  {
   "cell_type": "code",
   "execution_count": 57,
   "metadata": {},
   "outputs": [
    {
     "data": {
      "text/plain": [
       "1.73193359375"
      ]
     },
     "execution_count": 57,
     "metadata": {},
     "output_type": "execute_result"
    }
   ],
   "source": [
    "dicho(1.5,2,f,0.001)"
   ]
  },
  {
   "cell_type": "markdown",
   "metadata": {},
   "source": [
    "###### 3)le nombre d'itération nécessaire pour avoir la solution à 𝑒𝑝𝑠 près."
   ]
  },
  {
   "cell_type": "code",
   "execution_count": 58,
   "metadata": {},
   "outputs": [],
   "source": [
    "def dicho(a,b,f,eps):\n",
    "    m=(a+b)/2\n",
    "    ecart = abs(b-a)\n",
    "    n=0\n",
    "    while abs(b-a)>eps:\n",
    "        n+=1\n",
    "        if f(a)*f(m)<0:\n",
    "             b=m\n",
    "        else:\n",
    "            a=m\n",
    "        m=(a+b)/2\n",
    "    print (\" nbr d'itérations nécessaires :\", n )\n",
    "    return m\n"
   ]
  },
  {
   "cell_type": "code",
   "execution_count": 59,
   "metadata": {},
   "outputs": [
    {
     "name": "stdout",
     "output_type": "stream",
     "text": [
      " nbr d'itérations nécessaires : 9\n",
      " nbr d'itérations nécessaires : 10\n",
      " nbr d'itérations nécessaires : 9\n"
     ]
    },
    {
     "data": {
      "text/plain": [
       "1.73193359375"
      ]
     },
     "execution_count": 59,
     "metadata": {},
     "output_type": "execute_result"
    }
   ],
   "source": [
    "dicho(-2,-1.5,f,0.001)\n",
    "dicho(-1.5,-0.5,f,0.001)\n",
    "dicho(1.5,2,f,0.001)"
   ]
  },
  {
   "cell_type": "markdown",
   "metadata": {},
   "source": [
    "## EXERCICE 3: Méthode du point fixe\n",
    "\n",
    "On considère l'équation :\n",
    "𝑓(𝑥)=𝑥3+4𝑥2−10=0\n",
    " \n",
    "1) Dessiner la courbe de  𝑓  dans l'intervalle  [1;2] , puis trouver une valeur approché de la solution à 0.001 près (En >utilisant la fonction zoom du graphique).\n",
    "\n",
    "2) Vérifier que cette équation est équivalente aux 3 schéma du point fixe suivant:\n",
    "\n",
    "a)  𝑔1(𝑥)=1210−𝑥3⎯⎯⎯⎯⎯⎯⎯⎯⎯⎯⎯⎯√=𝑥 .\n",
    "\n",
    "b)  𝑔2(𝑥)=104+𝑥⎯⎯⎯⎯⎯⎯⎯⎯⎯⎯√=𝑥 .\n",
    "\n",
    "c)  𝑔3(𝑥)=𝑥−𝑥3−4𝑥2+10=𝑥 .\n",
    "\n",
    "3) Ecrire puis appliquer une fonction Matlab que l'on appellera pointfixe.m aux trois schémas précédents en prenant >x0=1.5;eps=0.001.\n",
    "\n",
    "4) Quelle est la fonction (parmi  𝑔1,𝑔2  et  𝑔3 ) qui donne la convergence la plus rapide?"
   ]
  },
  {
   "cell_type": "markdown",
   "metadata": {},
   "source": [
    "1) Dessiner la courbe de 𝑓 dans l'intervalle [1;2] "
   ]
  },
  {
   "cell_type": "code",
   "execution_count": 61,
   "metadata": {},
   "outputs": [
    {
     "data": {
      "image/png": "[encoded data removed]",
      "text/plain": [
       "<Figure size 432x288 with 4 Axes>"
      ]
     },
     "metadata": {
      "needs_background": "light"
     },
     "output_type": "display_data"
    }
   ],
   "source": [
    "%matplotlib inline\n",
    "#import mpld3\n",
    "#mpld3.enable_notebook()\n",
    "import numpy as np \n",
    "import matplotlib.pyplot as plt\n",
    "\n",
    "f=lambda x:x**3+4*x**2-10\n",
    "\n",
    "t=np.linspace(1,2,100)\n",
    "plt.subplot(2,2,1)\n",
    "plt.plot(t,f(t),'r')\n",
    "plt.grid(True)\n",
    "##########################################\n",
    "t=np.linspace(1.2,1.4,100)\n",
    "plt.subplot(2,2,2)\n",
    "plt.plot(t,f(t),'r')\n",
    "plt.grid(True)\n",
    "##########################################\n",
    "t=np.linspace(1.35,1.4,100)\n",
    "plt.subplot(2,2,3)\n",
    "plt.plot(t,f(t),'r')\n",
    "plt.grid(True)\n",
    "#########################################\n",
    "t=np.linspace(1.365,1.367,100)\n",
    "plt.subplot(2,2,4)\n",
    "plt.plot(t,f(t),'r')\n",
    "plt.grid(True)"
   ]
  },
  {
   "cell_type": "markdown",
   "metadata": {},
   "source": [
    "### 3)"
   ]
  },
  {
   "cell_type": "code",
   "execution_count": 64,
   "metadata": {},
   "outputs": [],
   "source": [
    "\n",
    "f=lambda x:  x**3+4*x**2-10 # la fonction f\n",
    "g1=lambda x: 1/2*sqrt(10-x**3)\n",
    "g2=lambda x: sqrt(10/(x+4))\n",
    "g3=lambda x: x-x**3-4*x**2 + 10\n",
    "\n",
    "\n",
    "def ptfixe(g,x0,eps,nmax):\n",
    "    pass\n",
    "\n",
    "    print('pas de convergence avec le nombre d''iteration indique')"
   ]
  },
  {
   "cell_type": "code",
   "execution_count": 65,
   "metadata": {},
   "outputs": [
    {
     "name": "stdout",
     "output_type": "stream",
     "text": [
      "pas de convergence avec le nombre diteration indique\n"
     ]
    }
   ],
   "source": [
    "ptfixe(g3,1.5,0.0001,30)"
   ]
  },
  {
   "cell_type": "markdown",
   "metadata": {},
   "source": [
    "4) Quelle est la fonction (parmi 𝑔1,𝑔2 et 𝑔3 ) qui donne la convergence la plus rapide"
   ]
  },
  {
   "cell_type": "markdown",
   "metadata": {},
   "source": [
    "## => La fonction g2 donne la convergence la plus rapide"
   ]
  },
  {
   "cell_type": "markdown",
   "metadata": {},
   "source": [
    "## EXERCICE 4: Méthode de Newton\n",
    "\n",
    "On considère la fonction  𝑓(𝑥)=𝑒−𝑥−𝑥 .\n",
    "\n",
    "\n",
    "1) Ecrire puis appliquer une fonction Matlab à la >fonction  𝑓 , en prenant  𝑥0=0 ,  𝑒𝑝𝑠=0.001  .\n",
    "\n",
    "2) Montrer que l'équation  𝑓(𝑥)=0  admet une solution unique que l'on peut obtenir en utilisant la méthode de Newton à partir >de  𝑥0=1 ."
   ]
  },
  {
   "cell_type": "markdown",
   "metadata": {},
   "source": [
    "###### Avec Python"
   ]
  },
  {
   "cell_type": "code",
   "execution_count": 70,
   "metadata": {},
   "outputs": [],
   "source": [
    "from math import exp\n",
    "from time import time\n",
    "f=lambda x: exp(-x)-x\n",
    "fprime=lambda x: -exp(-x)-1\n",
    "def newton(a,eps):\n",
    "    debut=time()\n",
    "    x1=a\n",
    "    x2=x1-f(x1)/fprime(x1)\n",
    "    while (abs(x1-x2)>eps) :\n",
    "        x1=x2\n",
    "        x2=x1-(f(x1)/fprime(x1))\n",
    "        fin=time()\n",
    "    return x2,fin-debut"
   ]
  },
  {
   "cell_type": "code",
   "execution_count": 69,
   "metadata": {},
   "outputs": [
    {
     "data": {
      "text/plain": [
       "(0.567143285989123, 0.0)"
      ]
     },
     "execution_count": 69,
     "metadata": {},
     "output_type": "execute_result"
    }
   ],
   "source": [
    "newton(1,0.001)"
   ]
  },
  {
   "cell_type": "code",
   "execution_count": null,
   "metadata": {},
   "outputs": [],
   "source": [
    "Comparaison de la méthode de "
   ]
  },
  {
   "cell_type": "markdown",
   "metadata": {},
   "source": [
    "En analyse numérique, quand on a des algorithmes qui donnent le même résultat, on doit donc utiliser l'algorithme qui fait le moins d'erreur possibles et il doit être stable(fonctionnel dans tous les cas)."
   ]
  },
  {
   "cell_type": "markdown",
   "metadata": {},
   "source": [
    "### Comparaison des trois méthodes:\n",
    "\n",
    "La méthode de dichotomie converge toujours.son ordre de convergence est egale à 1. => Méthode lente.\n",
    "\n",
    "La méthode du point fixe converge localement.\n",
    "\n",
    "La méthode du point fixe converge localement.son ordre de convergence est au moins égale à 2. => Méthode rapide.\n",
    "\n",
    "\n"
   ]
  },
  {
   "cell_type": "code",
   "execution_count": null,
   "metadata": {},
   "outputs": [],
   "source": []
  }
 ],
 "metadata": {
  "kernelspec": {
   "display_name": "Python 3",
   "language": "python",
   "name": "python3"
  },
  "language_info": {
   "codemirror_mode": {
    "name": "ipython",
    "version": 3
   },
   "file_extension": ".py",
   "mimetype": "text/x-python",
   "name": "python",
   "nbconvert_exporter": "python",
   "pygments_lexer": "ipython3",
   "version": "3.8.3"
  }
 },
 "nbformat": 4,
 "nbformat_minor": 4
}
